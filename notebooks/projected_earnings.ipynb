{
 "cells": [
  {
   "cell_type": "code",
   "execution_count": 1,
   "id": "e9e6fded-b7ff-4406-a15e-a4e3ac170424",
   "metadata": {
    "tags": []
   },
   "outputs": [],
   "source": [
    "import itertools\n",
    "import os\n",
    "\n",
    "import pandas as pd\n",
    "\n",
    "from pathlib import Path"
   ]
  },
  {
   "cell_type": "markdown",
   "id": "72f77366-bd2b-4e5c-a743-5eb2e708459a",
   "metadata": {},
   "source": [
    "# Method 1 - Probabilistic forecast using ML probabilistic algorithms"
   ]
  },
  {
   "cell_type": "code",
   "execution_count": 2,
   "id": "0d66f042-f9f1-43bf-8aa9-67a1aff3c6d6",
   "metadata": {
    "tags": []
   },
   "outputs": [],
   "source": [
    "# Sets the working dorectory to the appropriate path\n",
    "p = Path().absolute()\n",
    "os.chdir(p.parent)"
   ]
  },
  {
   "cell_type": "code",
   "execution_count": 3,
   "id": "35314587-7f85-412f-8d9b-4f6cfe9fb412",
   "metadata": {
    "tags": []
   },
   "outputs": [],
   "source": [
    "# Directory to store the results\n",
    "predictions_directory = \"example_results\""
   ]
  },
  {
   "cell_type": "code",
   "execution_count": 4,
   "id": "aadadc7e-3b67-4be9-9aa5-f68de47825e4",
   "metadata": {
    "tags": []
   },
   "outputs": [],
   "source": [
    "# Runs the python module performing the training and prediction, and stores the results in CSV files in the previous directory (cell above).\n",
    "\n",
    "# Note that training the quantile forest algorithm is computationally very expensive, the following commented commands will run the program using the hyper-parameters needed to obtain decent results. However, it may take up to one hour to run. To simply test that the program runs, it is recommended to run the simplified version in the next cell.\n",
    "\n",
    "# %run -m forecaster -i instances/inputs.toml -o predictions_directory -tts price\n",
    "# %run -m forecaster -i instances/inputs.toml -o predictions_directory -tts energy"
   ]
  },
  {
   "cell_type": "code",
   "execution_count": 5,
   "id": "0a7e2cb1-8eea-4b5d-a004-7996faf2433e",
   "metadata": {
    "tags": []
   },
   "outputs": [
    {
     "name": "stderr",
     "output_type": "stream",
     "text": [
      "/home/villena/interviews/smartestenergy/task/.venv/lib/python3.10/site-packages/quantile_forest/_quantile_forest.py:104: DataConversionWarning: A column-vector y was passed when a 1d array was expected. Please change the shape of y to (n_samples,), for example using ravel().\n",
      "  super(BaseForestQuantileRegressor, self).fit(X, y, sample_weight=sample_weight)\n",
      "/home/villena/interviews/smartestenergy/task/.venv/lib/python3.10/site-packages/sklearn/utils/validation.py:1143: DataConversionWarning: A column-vector y was passed when a 1d array was expected. Please change the shape of y to (n_samples, ), for example using ravel().\n",
      "  y = column_or_1d(y, warn=True)\n",
      "/home/villena/interviews/smartestenergy/task/.venv/lib/python3.10/site-packages/quantile_forest/_quantile_forest.py:104: DataConversionWarning: A column-vector y was passed when a 1d array was expected. Please change the shape of y to (n_samples,), for example using ravel().\n",
      "  super(BaseForestQuantileRegressor, self).fit(X, y, sample_weight=sample_weight)\n",
      "/home/villena/interviews/smartestenergy/task/.venv/lib/python3.10/site-packages/sklearn/utils/validation.py:1143: DataConversionWarning: A column-vector y was passed when a 1d array was expected. Please change the shape of y to (n_samples, ), for example using ravel().\n",
      "  y = column_or_1d(y, warn=True)\n",
      "/home/villena/interviews/smartestenergy/task/.venv/lib/python3.10/site-packages/quantile_forest/_quantile_forest.py:104: DataConversionWarning: A column-vector y was passed when a 1d array was expected. Please change the shape of y to (n_samples,), for example using ravel().\n",
      "  super(BaseForestQuantileRegressor, self).fit(X, y, sample_weight=sample_weight)\n",
      "/home/villena/interviews/smartestenergy/task/.venv/lib/python3.10/site-packages/sklearn/utils/validation.py:1143: DataConversionWarning: A column-vector y was passed when a 1d array was expected. Please change the shape of y to (n_samples, ), for example using ravel().\n",
      "  y = column_or_1d(y, warn=True)\n",
      "/home/villena/interviews/smartestenergy/task/.venv/lib/python3.10/site-packages/quantile_forest/_quantile_forest.py:104: DataConversionWarning: A column-vector y was passed when a 1d array was expected. Please change the shape of y to (n_samples,), for example using ravel().\n",
      "  super(BaseForestQuantileRegressor, self).fit(X, y, sample_weight=sample_weight)\n",
      "/home/villena/interviews/smartestenergy/task/.venv/lib/python3.10/site-packages/sklearn/utils/validation.py:1143: DataConversionWarning: A column-vector y was passed when a 1d array was expected. Please change the shape of y to (n_samples, ), for example using ravel().\n",
      "  y = column_or_1d(y, warn=True)\n"
     ]
    }
   ],
   "source": [
    "# The following commands will run a simplified version of the program\n",
    "\n",
    "%run -m forecaster -i instances/example_inputs.toml -o predictions_directory -tts price\n",
    "%run -m forecaster -i instances/example_inputs.toml -o predictions_directory -tts energy"
   ]
  },
  {
   "cell_type": "code",
   "execution_count": 6,
   "id": "d61c7519-6cd6-4e74-b66d-c778ad421adc",
   "metadata": {
    "tags": []
   },
   "outputs": [],
   "source": [
    "# Loads the results from the CSV files\n",
    "\n",
    "p_predictions = p.parent / predictions_directory\n",
    "price_predictions = pd.read_csv(p_predictions / \"price_predictions.csv\", index_col=0).drop([\"target\"], axis=1)\n",
    "energy_predictions = pd.read_csv(p_predictions / \"energy_predictions.csv\", index_col=0).drop([\"target\"], axis=1)"
   ]
  },
  {
   "cell_type": "code",
   "execution_count": 11,
   "id": "e9f63699-097e-4082-a500-80d6568dbcd0",
   "metadata": {
    "tags": []
   },
   "outputs": [],
   "source": [
    "# Gets the columns (quantiles) to obtain all the possible permutations of scenarios price-energy\n",
    "\n",
    "combination_vector = list(price_predictions.columns)\n",
    "combinations = itertools.product(combination_vector, repeat=2)"
   ]
  },
  {
   "cell_type": "code",
   "execution_count": 12,
   "id": "38824475-abd0-4f92-a8b4-a0dde0b220cf",
   "metadata": {
    "tags": []
   },
   "outputs": [],
   "source": [
    "# Fills a pandas series with the sum of the multiplications price * energy\n",
    "\n",
    "potential_earnings = pd.Series()\n",
    "for p1, p2 in combinations:\n",
    "    potential_earnings[f\"{p1}{p2}\"] = (price_predictions[p1] * energy_predictions[p2]).sum()"
   ]
  },
  {
   "cell_type": "code",
   "execution_count": 13,
   "id": "dfed4c94-9946-46b1-847a-23db1b85aaad",
   "metadata": {
    "tags": []
   },
   "outputs": [
    {
     "data": {
      "text/plain": [
       "<Axes: >"
      ]
     },
     "execution_count": 13,
     "metadata": {},
     "output_type": "execute_result"
    },
    {
     "data": {
      "image/png": "[encoded data removed]",
      "text/plain": [
       "<Figure size 640x480 with 1 Axes>"
      ]
     },
     "metadata": {},
     "output_type": "display_data"
    }
   ],
   "source": [
    "# Histogram of the different potential earnings\n",
    "\n",
    "potential_earnings.hist(bins=20)"
   ]
  },
  {
   "cell_type": "code",
   "execution_count": 14,
   "id": "813c0827-165f-498c-8166-055d355201e5",
   "metadata": {
    "tags": []
   },
   "outputs": [
    {
     "name": "stdout",
     "output_type": "stream",
     "text": [
      "p10 earnings = £8,066,565.72\n",
      "p50 earnings = £10,347,810.11\n",
      "p90 earnings = £13,314,449.74\n"
     ]
    }
   ],
   "source": [
    "# Prints the P10, P50, and P90 of the potential earnings\n",
    "\n",
    "print(f\"p10 earnings = £{potential_earnings.quantile(0.1):,.2f}\")\n",
    "print(f\"p50 earnings = £{potential_earnings.quantile(0.5):,.2f}\")\n",
    "print(f\"p90 earnings = £{potential_earnings.quantile(0.9):,.2f}\")"
   ]
  },
  {
   "cell_type": "code",
   "execution_count": null,
   "id": "ae76d9fb-d930-4866-ad75-82c883c51ce2",
   "metadata": {},
   "outputs": [],
   "source": []
  }
 ],
 "metadata": {
  "kernelspec": {
   "display_name": "Python 3 (ipykernel)",
   "language": "python",
   "name": "python3"
  },
  "language_info": {
   "codemirror_mode": {
    "name": "ipython",
    "version": 3
   },
   "file_extension": ".py",
   "mimetype": "text/x-python",
   "name": "python",
   "nbconvert_exporter": "python",
   "pygments_lexer": "ipython3",
   "version": "3.10.11"
  }
 },
 "nbformat": 4,
 "nbformat_minor": 5
}
